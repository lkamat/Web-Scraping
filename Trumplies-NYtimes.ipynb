{
 "cells": [
  {
   "cell_type": "code",
   "execution_count": 2,
   "metadata": {},
   "outputs": [
    {
     "name": "stdout",
     "output_type": "stream",
     "text": [
      "180\n",
      "[<span class=\"short-desc\"><strong>Jan. 21 </strong>“I wasn't a fan of Iraq. I didn't want to go into Iraq.” <span class=\"short-truth\"><a href=\"https://www.buzzfeed.com/andrewkaczynski/in-2002-donald-trump-said-he-supported-invading-iraq-on-the\" target=\"_blank\">(He was for an invasion before he was against it.)</a></span></span>, <span class=\"short-desc\"><strong>Jan. 21 </strong>“A reporter for Time magazine — and I have been on their cover 14 or 15 times. I think we have the all-time record in the history of Time magazine.” <span class=\"short-truth\"><a href=\"http://nation.time.com/2013/11/06/10-things-you-didnt-know-about-time/\" target=\"_blank\">(Trump was on the cover 11 times and Nixon appeared 55 times.)</a></span></span>, <span class=\"short-desc\"><strong>Jan. 23 </strong>“Between 3 million and 5 million illegal votes caused me to lose the popular vote.” <span class=\"short-truth\"><a href=\"https://www.nytimes.com/2017/01/23/us/politics/donald-trump-congress-democrats.html\" target=\"_blank\">(There's no evidence of illegal voting.)</a></span></span>, <span class=\"short-desc\"><strong>Jan. 25 </strong>“Now, the audience was the biggest ever. But this crowd was massive. Look how far back it goes. This crowd was massive.” <span class=\"short-truth\"><a href=\"https://www.nytimes.com/2017/01/21/us/politics/trump-white-house-briefing-inauguration-crowd-size.html\" target=\"_blank\">(Official aerial photos show Obama's 2009 inauguration was much more heavily attended.)</a></span></span>]\n"
     ]
    }
   ],
   "source": [
    "import requests  \n",
    "r = requests.get('https://www.nytimes.com/interactive/2017/06/23/opinion/trumps-lies.html')\n",
    "# print the first 500 characters of the HTML\n",
    "#print(r.text[0:200]) \n",
    "#Parse the html\n",
    "from bs4 import BeautifulSoup  \n",
    "soup = BeautifulSoup(r.text, 'html.parser')  \n",
    "results = soup.find_all('span', attrs={'class':'short-desc'})\n",
    "print(len(results))\n",
    "#first 4 results \n",
    "print(results[0:4])\n",
    "#results[-1] for the last result\n",
    "records = []  \n",
    "for result in results:  \n",
    "    date = result.find('strong').text[0:-1] + ', 2017' # remove the empty space and add the yesr\n",
    "    lie = result.contents[1][1:-2]                     # remove the extra double quote in the end\n",
    "    explanation = result.find('a').text[1:-1]          # text in between the a tags\n",
    "    url = result.find('a')['href']                     # extract the url\n",
    "    records.append((date, lie, explanation, url))\n",
    "\n",
    "import pandas as pd  \n",
    "#df = pd.DataFrame(records, columns=['date', 'lie', 'explanation', 'url'])  \n",
    "#df['date'] = pd.to_datetime(df['date'])  \n",
    "#df.to_csv('trump_lies.csv', index=False, encoding='utf-8') "
   ]
  },
  {
   "cell_type": "code",
   "execution_count": null,
   "metadata": {
    "collapsed": true
   },
   "outputs": [],
   "source": []
  },
  {
   "cell_type": "code",
   "execution_count": null,
   "metadata": {
    "collapsed": true
   },
   "outputs": [],
   "source": []
  }
 ],
 "metadata": {
  "kernelspec": {
   "display_name": "Python [default]",
   "language": "python",
   "name": "python3"
  },
  "language_info": {
   "codemirror_mode": {
    "name": "ipython",
    "version": 3
   },
   "file_extension": ".py",
   "mimetype": "text/x-python",
   "name": "python",
   "nbconvert_exporter": "python",
   "pygments_lexer": "ipython3",
   "version": "3.5.3"
  }
 },
 "nbformat": 4,
 "nbformat_minor": 2
}
